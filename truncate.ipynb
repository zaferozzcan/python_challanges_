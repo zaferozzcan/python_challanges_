{
 "cells": [
  {
   "cell_type": "markdown",
   "metadata": {},
   "source": [
    "a function that will shorten a string to a specified lenght, and add \"...\" to the end. If the string gets truncated, the truncated string should have a \"...\" at the end. Because of this, the smallest number passed in as a second argument should be 3. "
   ]
  },
  {
   "cell_type": "code",
   "execution_count": 7,
   "metadata": {},
   "outputs": [
    {
     "data": {
      "text/plain": [
       "'...'"
      ]
     },
     "execution_count": 7,
     "metadata": {},
     "output_type": "execute_result"
    }
   ],
   "source": [
    "def truncated(string, num):\n",
    "    if num<3:\n",
    "        print(\"Truncation must be at least 3 characters\")\n",
    "    else:\n",
    "        new_string = \"\"\n",
    "        new_string +=string[:num-3]\n",
    "        new_string += \"...\"\n",
    "        return new_string\n",
    "\n",
    "truncated(\"Hello World\", 3)"
   ]
  },
  {
   "cell_type": "code",
   "execution_count": 10,
   "metadata": {},
   "outputs": [
    {
     "data": {
      "text/plain": [
       "'This is...'"
      ]
     },
     "execution_count": 10,
     "metadata": {},
     "output_type": "execute_result"
    }
   ],
   "source": [
    "def truncate(string, n):\n",
    "    if (n < 3):\n",
    "        return \"Truncation must be at least 3 characters.\"\n",
    "    if (n > len(string) + 2):\n",
    "        return string\n",
    " \n",
    "    return string[:n - 3] + \"...\"\n",
    "\n",
    "truncate(\"This is awesome!\", 10)"
   ]
  },
  {
   "cell_type": "code",
   "execution_count": null,
   "metadata": {},
   "outputs": [],
   "source": []
  },
  {
   "cell_type": "code",
   "execution_count": null,
   "metadata": {},
   "outputs": [],
   "source": []
  },
  {
   "cell_type": "code",
   "execution_count": null,
   "metadata": {},
   "outputs": [],
   "source": []
  }
 ],
 "metadata": {
  "kernelspec": {
   "display_name": "Python 3",
   "language": "python",
   "name": "python3"
  },
  "language_info": {
   "codemirror_mode": {
    "name": "ipython",
    "version": 3
   },
   "file_extension": ".py",
   "mimetype": "text/x-python",
   "name": "python",
   "nbconvert_exporter": "python",
   "pygments_lexer": "ipython3",
   "version": "3.7.4"
  }
 },
 "nbformat": 4,
 "nbformat_minor": 2
}
